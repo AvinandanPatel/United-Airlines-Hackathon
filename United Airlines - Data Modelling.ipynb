{
 "cells": [
  {
   "cell_type": "markdown",
   "id": "5a66f693",
   "metadata": {},
   "source": [
    "# MODELLING"
   ]
  },
  {
   "cell_type": "code",
   "execution_count": 1,
   "id": "24bb08aa",
   "metadata": {},
   "outputs": [],
   "source": [
    "import pandas as pd\n",
    "\n",
    "from sklearn.model_selection import train_test_split\n",
    "from sklearn.feature_extraction.text import TfidfVectorizer\n",
    "\n",
    "import pandas as pd\n",
    "from sklearn.model_selection import train_test_split\n",
    "from sklearn.linear_model import LogisticRegression\n",
    "from sklearn.ensemble import RandomForestClassifier\n",
    "from sklearn.metrics import accuracy_score, classification_report\n",
    "from scipy.sparse import hstack\n",
    "\n",
    "from sklearn.ensemble import RandomForestClassifier\n",
    "from sklearn.metrics import classification_report, accuracy_score\n",
    "\n",
    "import plotly.express as px\n",
    "# Remove warnings\n",
    "import warnings\n",
    "warnings.filterwarnings(\"ignore\")"
   ]
  },
  {
   "cell_type": "code",
   "execution_count": 2,
   "id": "8b0e3df1",
   "metadata": {},
   "outputs": [],
   "source": [
    "# Calling datasets\n",
    "calls = pd.read_csv(\"calls.csv\")\n",
    "customers = pd.read_csv(\"customers.csv\")\n",
    "sent_stat = pd.read_csv(\"sentiment_statistics.csv\")\n",
    "reason = pd.read_csv(\"reason.csv\")\n",
    "test = pd.read_csv(\"test.csv\")"
   ]
  },
  {
   "cell_type": "markdown",
   "id": "811b3292",
   "metadata": {},
   "source": [
    "# 1. PREPARING TRAINING DATA SET"
   ]
  },
  {
   "cell_type": "code",
   "execution_count": 3,
   "id": "1a6811d6",
   "metadata": {},
   "outputs": [],
   "source": [
    "# PREPARATION OF TRAINING DATASET\n",
    "# Merging calls & reason dataset on the basis of call_id\n",
    "result_inner = pd.merge(calls, reason, on='call_id', how='inner')\n",
    "\n",
    "# Merging sentiment statistic on the basis of call_id\n",
    "result = pd.merge(result_inner, sent_stat, on = 'call_id', how = 'inner')\n",
    "result = result.drop('agent_id_y', axis=1)\n",
    "result.rename(columns={'agent_id_x': 'agent_id'}, inplace=True)\n",
    "\n",
    "# Merging customer data and finalize our data set\n",
    "final_result = pd.merge(result, customers, on = 'customer_id', how = 'inner')"
   ]
  },
  {
   "cell_type": "code",
   "execution_count": 4,
   "id": "c2ea8c2d",
   "metadata": {},
   "outputs": [
    {
     "data": {
      "text/plain": [
       "(66653, 14)"
      ]
     },
     "execution_count": 4,
     "metadata": {},
     "output_type": "execute_result"
    }
   ],
   "source": [
    "# DATA CLEANING - 1\n",
    "# HANDLING MISSING VALUES\n",
    "\n",
    "# Filling the NAN values to 0 of elite_level of customer \n",
    "final_result['elite_level_code'].fillna(0, inplace = True)\n",
    "\n",
    "# Handling missing values in agent_tone (categorical)\n",
    "# Impute missing values with a new category \"Unknown\"\n",
    "final_result['agent_tone'].fillna('Unknown', inplace=True)\n",
    "\n",
    "# Handling missing values in average_sentiment (numerical)\n",
    "# Impute missing values with the median\n",
    "final_result['average_sentiment'].fillna(final_result['average_sentiment'].median(), inplace=True)\n",
    "\n",
    "final_result.shape"
   ]
  },
  {
   "cell_type": "code",
   "execution_count": 5,
   "id": "2a195f28",
   "metadata": {},
   "outputs": [
    {
     "name": "stdout",
     "output_type": "stream",
     "text": [
      "UNIQUE CATEGORIES OF TARGET VARIABLE BEFORE CLEANING\n",
      "['Voluntary  Cancel' 'Booking' 'IRROPS' 'Upgrade' 'Seating'\n",
      " 'Mileage   Plus' 'Checkout' 'Voluntary   Change' 'Post Flight' 'Check In'\n",
      " 'Other  Topics' 'Communications' 'Schedule Change' 'Products & Services'\n",
      " 'IRROPS  ' 'Digital   Support' 'Seating  ' 'Disability'\n",
      " 'Unaccompanied Minor' ' Baggage' 'Traveler  Updates' 'Communications  '\n",
      " 'ETC' 'Upgrade  ' 'Unaccompanied Minor  ' 'Voluntary Change'\n",
      " 'Voluntary Change  ' 'Checkout  ' 'Mileage Plus' 'Mileage Plus  '\n",
      " 'Booking  ' 'Baggage  ' 'Post-Flight' 'Post-Flight  ' 'Schedule Change  '\n",
      " 'Baggage' 'Traveler Updates' 'Voluntary Cancel' 'Check-In'\n",
      " 'Products and Services' 'Check-In  ' 'Other Topics' 'Other Topics  '\n",
      " 'ETC  ' 'Disability  ' 'Digital Support' 'Digital Support  '\n",
      " 'Voluntary Cancel  ' 'Products and Services  ' 'Traveler Updates  '\n",
      " 'Traveler   Updates' 'Digital  Support' 'Mileage  Plus'\n",
      " 'Voluntary  Change']\n",
      "----------------------------------------------------------------------------------------------------\n",
      "UNIQUE CATEGORIES OF TARGET VARIABLE AFTER CLEANING\n",
      "['Voluntary Cancel' 'Booking' 'IRROPS' 'Upgrade' 'Seating' 'Mileage Plus'\n",
      " 'Checkout' 'Voluntary Change' 'Post Flight' 'Check In' 'Other Topics'\n",
      " 'Communications' 'Schedule Change' 'Products and Services'\n",
      " 'Digital Support' 'Disability' 'Unaccompanied Minor' 'Baggage'\n",
      " 'Traveler Updates' 'ETC']\n"
     ]
    }
   ],
   "source": [
    "# DATA CLEANING -2 \n",
    "# CLEANING OF UNIQUE VALUES OF TARGET FEATURE\n",
    "print(\"UNIQUE CATEGORIES OF TARGET VARIABLE BEFORE CLEANING\")\n",
    "print(final_result[\"primary_call_reason\"].unique())\n",
    "\n",
    "# Replacing & to and in between words\n",
    "final_result[\"primary_call_reason\"] = final_result[\"primary_call_reason\"].str.replace('&', 'and', regex=True)\n",
    "\n",
    "# Replacing leading, trailing spaces, extra spaces and hyphens between words to single space\n",
    "# regex = front space(^\\s+), space inbetween(\\s+), space at end(\\s+$), hypens([-]+)\n",
    "# Used Str.strip because to remove the trailing and front spaces\n",
    "final_result[\"primary_call_reason\"] = final_result[\"primary_call_reason\"].str.replace(r'^\\s+|\\s+$|[-]+|\\s+', ' ', regex=True).str.strip()\n",
    "\n",
    "print(\"-\"*100)\n",
    "print(\"UNIQUE CATEGORIES OF TARGET VARIABLE AFTER CLEANING\")\n",
    "print(final_result[\"primary_call_reason\"].unique())"
   ]
  },
  {
   "cell_type": "code",
   "execution_count": 6,
   "id": "b9802d97",
   "metadata": {},
   "outputs": [
    {
     "data": {
      "text/html": [
       "<div>\n",
       "<style scoped>\n",
       "    .dataframe tbody tr th:only-of-type {\n",
       "        vertical-align: middle;\n",
       "    }\n",
       "\n",
       "    .dataframe tbody tr th {\n",
       "        vertical-align: top;\n",
       "    }\n",
       "\n",
       "    .dataframe thead th {\n",
       "        text-align: right;\n",
       "    }\n",
       "</style>\n",
       "<table border=\"1\" class=\"dataframe\">\n",
       "  <thead>\n",
       "    <tr style=\"text-align: right;\">\n",
       "      <th></th>\n",
       "      <th>call_id</th>\n",
       "      <th>customer_id</th>\n",
       "      <th>agent_id</th>\n",
       "      <th>call_start_datetime</th>\n",
       "      <th>agent_assigned_datetime</th>\n",
       "      <th>call_end_datetime</th>\n",
       "      <th>call_transcript</th>\n",
       "      <th>primary_call_reason</th>\n",
       "      <th>agent_tone</th>\n",
       "      <th>customer_tone</th>\n",
       "      <th>...</th>\n",
       "      <th>silence_percent_average</th>\n",
       "      <th>customer_name</th>\n",
       "      <th>elite_level_code</th>\n",
       "      <th>Speed</th>\n",
       "      <th>Handle</th>\n",
       "      <th>Total Call Duration</th>\n",
       "      <th>Speed_seconds</th>\n",
       "      <th>Handle_seconds</th>\n",
       "      <th>Speed_minutes</th>\n",
       "      <th>Handle_minutes</th>\n",
       "    </tr>\n",
       "  </thead>\n",
       "  <tbody>\n",
       "    <tr>\n",
       "      <th>0</th>\n",
       "      <td>4667960400</td>\n",
       "      <td>2033123310</td>\n",
       "      <td>963118</td>\n",
       "      <td>2024-07-31 23:56:00</td>\n",
       "      <td>2024-08-01 00:03:00</td>\n",
       "      <td>2024-08-01 00:34:00</td>\n",
       "      <td>\\n\\nAgent: Thank you for calling United Airlin...</td>\n",
       "      <td>Voluntary Cancel</td>\n",
       "      <td>neutral</td>\n",
       "      <td>angry</td>\n",
       "      <td>...</td>\n",
       "      <td>0.39</td>\n",
       "      <td>Matthew Foster</td>\n",
       "      <td>4.0</td>\n",
       "      <td>0 days 00:07:00</td>\n",
       "      <td>0 days 00:31:00</td>\n",
       "      <td>38.0</td>\n",
       "      <td>420.0</td>\n",
       "      <td>1860.0</td>\n",
       "      <td>7.0</td>\n",
       "      <td>31.0</td>\n",
       "    </tr>\n",
       "    <tr>\n",
       "      <th>1</th>\n",
       "      <td>1122072124</td>\n",
       "      <td>8186702651</td>\n",
       "      <td>519057</td>\n",
       "      <td>2024-08-01 00:03:00</td>\n",
       "      <td>2024-08-01 00:06:00</td>\n",
       "      <td>2024-08-01 00:18:00</td>\n",
       "      <td>\\n\\nAgent: Thank you for calling United Airlin...</td>\n",
       "      <td>Booking</td>\n",
       "      <td>calm</td>\n",
       "      <td>neutral</td>\n",
       "      <td>...</td>\n",
       "      <td>0.35</td>\n",
       "      <td>Tammy Walters</td>\n",
       "      <td>0.0</td>\n",
       "      <td>0 days 00:03:00</td>\n",
       "      <td>0 days 00:12:00</td>\n",
       "      <td>15.0</td>\n",
       "      <td>180.0</td>\n",
       "      <td>720.0</td>\n",
       "      <td>3.0</td>\n",
       "      <td>12.0</td>\n",
       "    </tr>\n",
       "    <tr>\n",
       "      <th>2</th>\n",
       "      <td>6834291559</td>\n",
       "      <td>2416856629</td>\n",
       "      <td>158319</td>\n",
       "      <td>2024-07-31 23:59:00</td>\n",
       "      <td>2024-08-01 00:07:00</td>\n",
       "      <td>2024-08-01 00:26:00</td>\n",
       "      <td>\\n\\nAgent: Thank you for calling United Airlin...</td>\n",
       "      <td>IRROPS</td>\n",
       "      <td>neutral</td>\n",
       "      <td>polite</td>\n",
       "      <td>...</td>\n",
       "      <td>0.32</td>\n",
       "      <td>Jeffery Dixon</td>\n",
       "      <td>0.0</td>\n",
       "      <td>0 days 00:08:00</td>\n",
       "      <td>0 days 00:19:00</td>\n",
       "      <td>27.0</td>\n",
       "      <td>480.0</td>\n",
       "      <td>1140.0</td>\n",
       "      <td>8.0</td>\n",
       "      <td>19.0</td>\n",
       "    </tr>\n",
       "  </tbody>\n",
       "</table>\n",
       "<p>3 rows × 21 columns</p>\n",
       "</div>"
      ],
      "text/plain": [
       "      call_id  customer_id  agent_id call_start_datetime  \\\n",
       "0  4667960400   2033123310    963118 2024-07-31 23:56:00   \n",
       "1  1122072124   8186702651    519057 2024-08-01 00:03:00   \n",
       "2  6834291559   2416856629    158319 2024-07-31 23:59:00   \n",
       "\n",
       "  agent_assigned_datetime   call_end_datetime  \\\n",
       "0     2024-08-01 00:03:00 2024-08-01 00:34:00   \n",
       "1     2024-08-01 00:06:00 2024-08-01 00:18:00   \n",
       "2     2024-08-01 00:07:00 2024-08-01 00:26:00   \n",
       "\n",
       "                                     call_transcript primary_call_reason  \\\n",
       "0  \\n\\nAgent: Thank you for calling United Airlin...    Voluntary Cancel   \n",
       "1  \\n\\nAgent: Thank you for calling United Airlin...             Booking   \n",
       "2  \\n\\nAgent: Thank you for calling United Airlin...              IRROPS   \n",
       "\n",
       "  agent_tone customer_tone  ...  silence_percent_average   customer_name  \\\n",
       "0    neutral         angry  ...                     0.39  Matthew Foster   \n",
       "1       calm       neutral  ...                     0.35   Tammy Walters   \n",
       "2    neutral        polite  ...                     0.32   Jeffery Dixon   \n",
       "\n",
       "  elite_level_code           Speed          Handle Total Call Duration  \\\n",
       "0              4.0 0 days 00:07:00 0 days 00:31:00                38.0   \n",
       "1              0.0 0 days 00:03:00 0 days 00:12:00                15.0   \n",
       "2              0.0 0 days 00:08:00 0 days 00:19:00                27.0   \n",
       "\n",
       "   Speed_seconds  Handle_seconds  Speed_minutes  Handle_minutes  \n",
       "0          420.0          1860.0            7.0            31.0  \n",
       "1          180.0           720.0            3.0            12.0  \n",
       "2          480.0          1140.0            8.0            19.0  \n",
       "\n",
       "[3 rows x 21 columns]"
      ]
     },
     "execution_count": 6,
     "metadata": {},
     "output_type": "execute_result"
    }
   ],
   "source": [
    "# FEATURE ENGINEERING - 1\n",
    "# CREATING AHT & AST & TOTAL CALL DURATION\n",
    "\n",
    "# Conversion to datetime datatypes\n",
    "final_result[\"call_start_datetime\"] = pd.to_datetime(final_result[\"call_start_datetime\"])\n",
    "final_result[\"agent_assigned_datetime\"] = pd.to_datetime(final_result[\"agent_assigned_datetime\"])\n",
    "final_result[\"call_end_datetime\"] = pd.to_datetime(final_result[\"call_end_datetime\"])\n",
    "\n",
    "# Metric\n",
    "# Speed to answer\n",
    "final_result[\"Speed\"] = final_result[\"agent_assigned_datetime\"]-final_result[\"call_start_datetime\"]\n",
    "# Handling time\n",
    "final_result[\"Handle\"] = final_result[\"call_end_datetime\"]-final_result[\"agent_assigned_datetime\"]\n",
    "# Total Call Duration\n",
    "final_result[\"Total Call Duration\"] = final_result[\"call_end_datetime\"]-final_result[\"call_start_datetime\"]\n",
    "\n",
    "# Use seconds as measure\n",
    "final_result[\"Speed_seconds\"] = final_result[\"Speed\"].dt.total_seconds()\n",
    "final_result[\"Handle_seconds\"] = final_result[\"Handle\"].dt.total_seconds()\n",
    "\n",
    "# Using minutes as measure\n",
    "final_result[\"Speed_minutes\"] = final_result[\"Speed\"].dt.total_seconds() / 60\n",
    "final_result[\"Handle_minutes\"] = final_result[\"Handle\"].dt.total_seconds() / 60\n",
    "final_result[\"Total Call Duration\"] = final_result[\"Total Call Duration\"].dt.total_seconds() / 60\n",
    "\n",
    "final_result.head(3)"
   ]
  },
  {
   "cell_type": "code",
   "execution_count": 7,
   "id": "a208a932",
   "metadata": {},
   "outputs": [],
   "source": [
    "# FEATURE ENGINEERING - 2\n",
    "# CONVERTING CALL TRANSCRIPT INTO MACHINE READBLE DATA USING NLP, TF-IDF PROCESSING.\n",
    "\n",
    "# Package Calling\n",
    "from sklearn.model_selection import train_test_split\n",
    "from sklearn.feature_extraction.text import TfidfVectorizer\n",
    "\n",
    "# Reduce the size of the transcripts by truncating & Proceed with TF-IDF processing. \n",
    "# Limit the size of call transcripts to reduce memory consumption (e.g., first 500 characters of each transcript)\n",
    "final_result['call_transcript'] = final_result['call_transcript'].str.slice(0, 500)\n",
    "\n",
    "# Re-split the data after truncation\n",
    "X_text = final_result['call_transcript']\n",
    "Y = final_result['primary_call_reason'] \n",
    "\n",
    "# Apply TF-IDF Vectorization to the text data (to convert text into numeric features)\n",
    "tfidf_vectorizer = TfidfVectorizer(stop_words='english', max_features=1000)\n",
    "X_tfidf = tfidf_vectorizer.fit_transform(X_text)\n",
    "\n",
    "# Conver the sparse matrix to DataFrame\n",
    "tfidf_df = pd.DataFrame(X_tfidf.toarray(), columns=[f'tfidf_{i}' for i in range(X_tfidf.shape[1])])"
   ]
  },
  {
   "cell_type": "code",
   "execution_count": 8,
   "id": "ef32e5f6",
   "metadata": {},
   "outputs": [
    {
     "data": {
      "text/html": [
       "<div>\n",
       "<style scoped>\n",
       "    .dataframe tbody tr th:only-of-type {\n",
       "        vertical-align: middle;\n",
       "    }\n",
       "\n",
       "    .dataframe tbody tr th {\n",
       "        vertical-align: top;\n",
       "    }\n",
       "\n",
       "    .dataframe thead th {\n",
       "        text-align: right;\n",
       "    }\n",
       "</style>\n",
       "<table border=\"1\" class=\"dataframe\">\n",
       "  <thead>\n",
       "    <tr style=\"text-align: right;\">\n",
       "      <th></th>\n",
       "      <th>elite_level_code</th>\n",
       "      <th>Handle_minutes</th>\n",
       "      <th>Speed_minutes</th>\n",
       "      <th>Total Call Duration</th>\n",
       "      <th>silence_percent_average</th>\n",
       "      <th>average_sentiment</th>\n",
       "      <th>agent_tone</th>\n",
       "      <th>customer_tone</th>\n",
       "      <th>tfidf_0</th>\n",
       "      <th>tfidf_1</th>\n",
       "      <th>...</th>\n",
       "      <th>tfidf_990</th>\n",
       "      <th>tfidf_991</th>\n",
       "      <th>tfidf_992</th>\n",
       "      <th>tfidf_993</th>\n",
       "      <th>tfidf_994</th>\n",
       "      <th>tfidf_995</th>\n",
       "      <th>tfidf_996</th>\n",
       "      <th>tfidf_997</th>\n",
       "      <th>tfidf_998</th>\n",
       "      <th>tfidf_999</th>\n",
       "    </tr>\n",
       "  </thead>\n",
       "  <tbody>\n",
       "    <tr>\n",
       "      <th>0</th>\n",
       "      <td>4.0</td>\n",
       "      <td>31.0</td>\n",
       "      <td>7.0</td>\n",
       "      <td>38.0</td>\n",
       "      <td>0.39</td>\n",
       "      <td>-0.04</td>\n",
       "      <td>neutral</td>\n",
       "      <td>angry</td>\n",
       "      <td>0.0</td>\n",
       "      <td>0.0</td>\n",
       "      <td>...</td>\n",
       "      <td>0.0</td>\n",
       "      <td>0.0</td>\n",
       "      <td>0.0</td>\n",
       "      <td>0.084848</td>\n",
       "      <td>0.0</td>\n",
       "      <td>0.0</td>\n",
       "      <td>0.0</td>\n",
       "      <td>0.0</td>\n",
       "      <td>0.139202</td>\n",
       "      <td>0.0</td>\n",
       "    </tr>\n",
       "    <tr>\n",
       "      <th>1</th>\n",
       "      <td>0.0</td>\n",
       "      <td>12.0</td>\n",
       "      <td>3.0</td>\n",
       "      <td>15.0</td>\n",
       "      <td>0.35</td>\n",
       "      <td>0.02</td>\n",
       "      <td>calm</td>\n",
       "      <td>neutral</td>\n",
       "      <td>0.0</td>\n",
       "      <td>0.0</td>\n",
       "      <td>...</td>\n",
       "      <td>0.0</td>\n",
       "      <td>0.0</td>\n",
       "      <td>0.0</td>\n",
       "      <td>0.090416</td>\n",
       "      <td>0.0</td>\n",
       "      <td>0.0</td>\n",
       "      <td>0.0</td>\n",
       "      <td>0.0</td>\n",
       "      <td>0.000000</td>\n",
       "      <td>0.0</td>\n",
       "    </tr>\n",
       "    <tr>\n",
       "      <th>2</th>\n",
       "      <td>0.0</td>\n",
       "      <td>19.0</td>\n",
       "      <td>8.0</td>\n",
       "      <td>27.0</td>\n",
       "      <td>0.32</td>\n",
       "      <td>-0.13</td>\n",
       "      <td>neutral</td>\n",
       "      <td>polite</td>\n",
       "      <td>0.0</td>\n",
       "      <td>0.0</td>\n",
       "      <td>...</td>\n",
       "      <td>0.0</td>\n",
       "      <td>0.0</td>\n",
       "      <td>0.0</td>\n",
       "      <td>0.000000</td>\n",
       "      <td>0.0</td>\n",
       "      <td>0.0</td>\n",
       "      <td>0.0</td>\n",
       "      <td>0.0</td>\n",
       "      <td>0.000000</td>\n",
       "      <td>0.0</td>\n",
       "    </tr>\n",
       "  </tbody>\n",
       "</table>\n",
       "<p>3 rows × 1008 columns</p>\n",
       "</div>"
      ],
      "text/plain": [
       "   elite_level_code  Handle_minutes  Speed_minutes  Total Call Duration  \\\n",
       "0               4.0            31.0            7.0                 38.0   \n",
       "1               0.0            12.0            3.0                 15.0   \n",
       "2               0.0            19.0            8.0                 27.0   \n",
       "\n",
       "   silence_percent_average  average_sentiment agent_tone customer_tone  \\\n",
       "0                     0.39              -0.04    neutral         angry   \n",
       "1                     0.35               0.02       calm       neutral   \n",
       "2                     0.32              -0.13    neutral        polite   \n",
       "\n",
       "   tfidf_0  tfidf_1  ...  tfidf_990  tfidf_991  tfidf_992  tfidf_993  \\\n",
       "0      0.0      0.0  ...        0.0        0.0        0.0   0.084848   \n",
       "1      0.0      0.0  ...        0.0        0.0        0.0   0.090416   \n",
       "2      0.0      0.0  ...        0.0        0.0        0.0   0.000000   \n",
       "\n",
       "   tfidf_994  tfidf_995  tfidf_996  tfidf_997  tfidf_998  tfidf_999  \n",
       "0        0.0        0.0        0.0        0.0   0.139202        0.0  \n",
       "1        0.0        0.0        0.0        0.0   0.000000        0.0  \n",
       "2        0.0        0.0        0.0        0.0   0.000000        0.0  \n",
       "\n",
       "[3 rows x 1008 columns]"
      ]
     },
     "execution_count": 8,
     "metadata": {},
     "output_type": "execute_result"
    }
   ],
   "source": [
    "# MAKING FINAL DATASET IN WHICH, WILL PERFORM MODELLING\n",
    "# DEFINING OUR NUMERICAL & CATEGORICAL FEATURES , RESPONSE VARIABLE(CATEGORY)\n",
    "features = [ 'elite_level_code', 'Handle_minutes', 'Speed_minutes',  'Total Call Duration' ,'silence_percent_average', 'average_sentiment','agent_tone',  'customer_tone']\n",
    "response = 'primary_call_reason'\n",
    "\n",
    "# SLICING DATASET BASED ON FEATURES & RESPONSE\n",
    "X = final_result[features]\n",
    "# COMBINING THE 'TFIDF FEATURES' i.e., tfidf_df with X\n",
    "X = pd.concat([X.reset_index(drop=True), tfidf_df.reset_index(drop=True)], axis=1)\n",
    "\n",
    "# TARGETVARIABLE\n",
    "Y = final_result[response]\n",
    "\n",
    "X.head(3)"
   ]
  },
  {
   "cell_type": "code",
   "execution_count": 9,
   "id": "d3836a73",
   "metadata": {},
   "outputs": [
    {
     "name": "stdout",
     "output_type": "stream",
     "text": [
      "{'Unknown': 0, 'angry': 1, 'calm': 2, 'frustrated': 3, 'neutral': 4, 'polite': 5}\n",
      "{'angry': 0, 'calm': 1, 'frustrated': 2, 'neutral': 3, 'polite': 4}\n"
     ]
    }
   ],
   "source": [
    "# ENCODING THE CATEGORICAL FEATURES\n",
    "from sklearn.preprocessing import LabelEncoder\n",
    "le = LabelEncoder()\n",
    "\n",
    "# EXTRACT CATEGORICAL FEATURES\n",
    "categorical_feature = [feature for feature in X.columns if X[feature].dtypes == 'object']\n",
    "\n",
    "# MAPPING THE FEATURES\n",
    "for feature in categorical_feature:\n",
    "    X[feature] = le.fit_transform(X[feature])\n",
    "    le_name_mapping = dict(zip(le.classes_, le.transform(le.classes_)))\n",
    "    print(le_name_mapping)"
   ]
  },
  {
   "cell_type": "code",
   "execution_count": 10,
   "id": "c4ca39e5",
   "metadata": {},
   "outputs": [
    {
     "name": "stdout",
     "output_type": "stream",
     "text": [
      "Logistic Regression Accuracy: 0.3301327732353162\n",
      "RandomForest Accuracy: 0.37694096466881705\n"
     ]
    }
   ],
   "source": [
    "# SPLITTING INTO TRAINING & VALIDATION SET\n",
    "# Step 3: Split the data into training and testing sets\n",
    "X_train, X_val, Y_train, Y_val = train_test_split(X, Y, test_size=0.2, random_state=42)\n",
    "\n",
    "\n",
    "# MODELLING\n",
    "# LOGISTIC MODEL\n",
    "logreg_model = LogisticRegression(max_iter=200)\n",
    "# Train the model\n",
    "logreg_model.fit(X_train, Y_train)\n",
    "# Evaluate the model on the Validation set\n",
    "Y_pred = logreg_model.predict(X_val)\n",
    "# Print accuracy and classification report\n",
    "print(\"Logistic Regression Accuracy:\", accuracy_score(Y_val, Y_pred))\n",
    "#print(\"Logistic Regression Classification Report:\\n\", classification_report(Y_val, Y_pred))\n",
    "\n",
    "\n",
    "\n",
    "# RANDOM FOREST\n",
    "rf_model = RandomForestClassifier(n_estimators=100, random_state=42)\n",
    "# Train RandomForest model\n",
    "rf_model.fit(X_train, Y_train)\n",
    "# Evaluate RandomForest model\n",
    "Y_pred_rf = rf_model.predict(X_val)\n",
    "# Print accuracy and classification report for RandomForest\n",
    "print(\"RandomForest Accuracy:\", accuracy_score(Y_val, Y_pred_rf))\n",
    "#print(\"RandomForest Classification Report:\\n\", classification_report(y_val, Y_pred_rf))\n"
   ]
  },
  {
   "cell_type": "code",
   "execution_count": 13,
   "id": "f4a4c5e4",
   "metadata": {},
   "outputs": [
    {
     "name": "stdout",
     "output_type": "stream",
     "text": [
      "Following are Important Features:\n",
      "['tfidf_677' 'tfidf_993' 'tfidf_630' 'tfidf_669' 'tfidf_217' 'tfidf_521'\n",
      " 'tfidf_884' 'tfidf_425' 'tfidf_862' 'tfidf_949' 'tfidf_98' 'tfidf_423'\n",
      " 'elite_level_code' 'tfidf_185' 'tfidf_90' 'tfidf_265' 'tfidf_363'\n",
      " 'silence_percent_average' 'average_sentiment' 'Handle_minutes'\n",
      " 'Total Call Duration' 'Speed_minutes']\n"
     ]
    },
    {
     "data": {
      "application/vnd.plotly.v1+json": {
       "config": {
        "plotlyServerURL": "https://plot.ly"
       },
       "data": [
        {
         "alignmentgroup": "True",
         "hovertemplate": "Important Feature=%{x}<br>Features=%{y}<extra></extra>",
         "legendgroup": "",
         "marker": {
          "color": "#636efa",
          "pattern": {
           "shape": ""
          }
         },
         "name": "",
         "offsetgroup": "",
         "orientation": "h",
         "showlegend": false,
         "textposition": "auto",
         "type": "bar",
         "x": [
          0.010173544164787652,
          0.010391909375620236,
          0.010417651729998907,
          0.011120572397956958,
          0.011274024808696674,
          0.011650264496899883,
          0.012033705275833058,
          0.01215873298123666,
          0.012269804925366468,
          0.012317879414339266,
          0.012359117348053674,
          0.013229313200597045,
          0.01324775904558108,
          0.013377538777534307,
          0.01355778696109839,
          0.014205437574350173,
          0.014914721416571953,
          0.01554464841044374,
          0.017286309946192544,
          0.018467906277061748,
          0.02377284842649866,
          0.07449129111741598
         ],
         "xaxis": "x",
         "y": [
          "tfidf_677",
          "tfidf_993",
          "tfidf_630",
          "tfidf_669",
          "tfidf_217",
          "tfidf_521",
          "tfidf_884",
          "tfidf_425",
          "tfidf_862",
          "tfidf_949",
          "tfidf_98",
          "tfidf_423",
          "elite_level_code",
          "tfidf_185",
          "tfidf_90",
          "tfidf_265",
          "tfidf_363",
          "silence_percent_average",
          "average_sentiment",
          "Handle_minutes",
          "Total Call Duration",
          "Speed_minutes"
         ],
         "yaxis": "y"
        }
       ],
       "layout": {
        "barmode": "relative",
        "height": 600,
        "legend": {
         "tracegroupgap": 0
        },
        "template": {
         "data": {
          "bar": [
           {
            "error_x": {
             "color": "#2a3f5f"
            },
            "error_y": {
             "color": "#2a3f5f"
            },
            "marker": {
             "line": {
              "color": "white",
              "width": 0.5
             },
             "pattern": {
              "fillmode": "overlay",
              "size": 10,
              "solidity": 0.2
             }
            },
            "type": "bar"
           }
          ],
          "barpolar": [
           {
            "marker": {
             "line": {
              "color": "white",
              "width": 0.5
             },
             "pattern": {
              "fillmode": "overlay",
              "size": 10,
              "solidity": 0.2
             }
            },
            "type": "barpolar"
           }
          ],
          "carpet": [
           {
            "aaxis": {
             "endlinecolor": "#2a3f5f",
             "gridcolor": "#C8D4E3",
             "linecolor": "#C8D4E3",
             "minorgridcolor": "#C8D4E3",
             "startlinecolor": "#2a3f5f"
            },
            "baxis": {
             "endlinecolor": "#2a3f5f",
             "gridcolor": "#C8D4E3",
             "linecolor": "#C8D4E3",
             "minorgridcolor": "#C8D4E3",
             "startlinecolor": "#2a3f5f"
            },
            "type": "carpet"
           }
          ],
          "choropleth": [
           {
            "colorbar": {
             "outlinewidth": 0,
             "ticks": ""
            },
            "type": "choropleth"
           }
          ],
          "contour": [
           {
            "colorbar": {
             "outlinewidth": 0,
             "ticks": ""
            },
            "colorscale": [
             [
              0,
              "#0d0887"
             ],
             [
              0.1111111111111111,
              "#46039f"
             ],
             [
              0.2222222222222222,
              "#7201a8"
             ],
             [
              0.3333333333333333,
              "#9c179e"
             ],
             [
              0.4444444444444444,
              "#bd3786"
             ],
             [
              0.5555555555555556,
              "#d8576b"
             ],
             [
              0.6666666666666666,
              "#ed7953"
             ],
             [
              0.7777777777777778,
              "#fb9f3a"
             ],
             [
              0.8888888888888888,
              "#fdca26"
             ],
             [
              1,
              "#f0f921"
             ]
            ],
            "type": "contour"
           }
          ],
          "contourcarpet": [
           {
            "colorbar": {
             "outlinewidth": 0,
             "ticks": ""
            },
            "type": "contourcarpet"
           }
          ],
          "heatmap": [
           {
            "colorbar": {
             "outlinewidth": 0,
             "ticks": ""
            },
            "colorscale": [
             [
              0,
              "#0d0887"
             ],
             [
              0.1111111111111111,
              "#46039f"
             ],
             [
              0.2222222222222222,
              "#7201a8"
             ],
             [
              0.3333333333333333,
              "#9c179e"
             ],
             [
              0.4444444444444444,
              "#bd3786"
             ],
             [
              0.5555555555555556,
              "#d8576b"
             ],
             [
              0.6666666666666666,
              "#ed7953"
             ],
             [
              0.7777777777777778,
              "#fb9f3a"
             ],
             [
              0.8888888888888888,
              "#fdca26"
             ],
             [
              1,
              "#f0f921"
             ]
            ],
            "type": "heatmap"
           }
          ],
          "heatmapgl": [
           {
            "colorbar": {
             "outlinewidth": 0,
             "ticks": ""
            },
            "colorscale": [
             [
              0,
              "#0d0887"
             ],
             [
              0.1111111111111111,
              "#46039f"
             ],
             [
              0.2222222222222222,
              "#7201a8"
             ],
             [
              0.3333333333333333,
              "#9c179e"
             ],
             [
              0.4444444444444444,
              "#bd3786"
             ],
             [
              0.5555555555555556,
              "#d8576b"
             ],
             [
              0.6666666666666666,
              "#ed7953"
             ],
             [
              0.7777777777777778,
              "#fb9f3a"
             ],
             [
              0.8888888888888888,
              "#fdca26"
             ],
             [
              1,
              "#f0f921"
             ]
            ],
            "type": "heatmapgl"
           }
          ],
          "histogram": [
           {
            "marker": {
             "pattern": {
              "fillmode": "overlay",
              "size": 10,
              "solidity": 0.2
             }
            },
            "type": "histogram"
           }
          ],
          "histogram2d": [
           {
            "colorbar": {
             "outlinewidth": 0,
             "ticks": ""
            },
            "colorscale": [
             [
              0,
              "#0d0887"
             ],
             [
              0.1111111111111111,
              "#46039f"
             ],
             [
              0.2222222222222222,
              "#7201a8"
             ],
             [
              0.3333333333333333,
              "#9c179e"
             ],
             [
              0.4444444444444444,
              "#bd3786"
             ],
             [
              0.5555555555555556,
              "#d8576b"
             ],
             [
              0.6666666666666666,
              "#ed7953"
             ],
             [
              0.7777777777777778,
              "#fb9f3a"
             ],
             [
              0.8888888888888888,
              "#fdca26"
             ],
             [
              1,
              "#f0f921"
             ]
            ],
            "type": "histogram2d"
           }
          ],
          "histogram2dcontour": [
           {
            "colorbar": {
             "outlinewidth": 0,
             "ticks": ""
            },
            "colorscale": [
             [
              0,
              "#0d0887"
             ],
             [
              0.1111111111111111,
              "#46039f"
             ],
             [
              0.2222222222222222,
              "#7201a8"
             ],
             [
              0.3333333333333333,
              "#9c179e"
             ],
             [
              0.4444444444444444,
              "#bd3786"
             ],
             [
              0.5555555555555556,
              "#d8576b"
             ],
             [
              0.6666666666666666,
              "#ed7953"
             ],
             [
              0.7777777777777778,
              "#fb9f3a"
             ],
             [
              0.8888888888888888,
              "#fdca26"
             ],
             [
              1,
              "#f0f921"
             ]
            ],
            "type": "histogram2dcontour"
           }
          ],
          "mesh3d": [
           {
            "colorbar": {
             "outlinewidth": 0,
             "ticks": ""
            },
            "type": "mesh3d"
           }
          ],
          "parcoords": [
           {
            "line": {
             "colorbar": {
              "outlinewidth": 0,
              "ticks": ""
             }
            },
            "type": "parcoords"
           }
          ],
          "pie": [
           {
            "automargin": true,
            "type": "pie"
           }
          ],
          "scatter": [
           {
            "fillpattern": {
             "fillmode": "overlay",
             "size": 10,
             "solidity": 0.2
            },
            "type": "scatter"
           }
          ],
          "scatter3d": [
           {
            "line": {
             "colorbar": {
              "outlinewidth": 0,
              "ticks": ""
             }
            },
            "marker": {
             "colorbar": {
              "outlinewidth": 0,
              "ticks": ""
             }
            },
            "type": "scatter3d"
           }
          ],
          "scattercarpet": [
           {
            "marker": {
             "colorbar": {
              "outlinewidth": 0,
              "ticks": ""
             }
            },
            "type": "scattercarpet"
           }
          ],
          "scattergeo": [
           {
            "marker": {
             "colorbar": {
              "outlinewidth": 0,
              "ticks": ""
             }
            },
            "type": "scattergeo"
           }
          ],
          "scattergl": [
           {
            "marker": {
             "colorbar": {
              "outlinewidth": 0,
              "ticks": ""
             }
            },
            "type": "scattergl"
           }
          ],
          "scattermapbox": [
           {
            "marker": {
             "colorbar": {
              "outlinewidth": 0,
              "ticks": ""
             }
            },
            "type": "scattermapbox"
           }
          ],
          "scatterpolar": [
           {
            "marker": {
             "colorbar": {
              "outlinewidth": 0,
              "ticks": ""
             }
            },
            "type": "scatterpolar"
           }
          ],
          "scatterpolargl": [
           {
            "marker": {
             "colorbar": {
              "outlinewidth": 0,
              "ticks": ""
             }
            },
            "type": "scatterpolargl"
           }
          ],
          "scatterternary": [
           {
            "marker": {
             "colorbar": {
              "outlinewidth": 0,
              "ticks": ""
             }
            },
            "type": "scatterternary"
           }
          ],
          "surface": [
           {
            "colorbar": {
             "outlinewidth": 0,
             "ticks": ""
            },
            "colorscale": [
             [
              0,
              "#0d0887"
             ],
             [
              0.1111111111111111,
              "#46039f"
             ],
             [
              0.2222222222222222,
              "#7201a8"
             ],
             [
              0.3333333333333333,
              "#9c179e"
             ],
             [
              0.4444444444444444,
              "#bd3786"
             ],
             [
              0.5555555555555556,
              "#d8576b"
             ],
             [
              0.6666666666666666,
              "#ed7953"
             ],
             [
              0.7777777777777778,
              "#fb9f3a"
             ],
             [
              0.8888888888888888,
              "#fdca26"
             ],
             [
              1,
              "#f0f921"
             ]
            ],
            "type": "surface"
           }
          ],
          "table": [
           {
            "cells": {
             "fill": {
              "color": "#EBF0F8"
             },
             "line": {
              "color": "white"
             }
            },
            "header": {
             "fill": {
              "color": "#C8D4E3"
             },
             "line": {
              "color": "white"
             }
            },
            "type": "table"
           }
          ]
         },
         "layout": {
          "annotationdefaults": {
           "arrowcolor": "#2a3f5f",
           "arrowhead": 0,
           "arrowwidth": 1
          },
          "autotypenumbers": "strict",
          "coloraxis": {
           "colorbar": {
            "outlinewidth": 0,
            "ticks": ""
           }
          },
          "colorscale": {
           "diverging": [
            [
             0,
             "#8e0152"
            ],
            [
             0.1,
             "#c51b7d"
            ],
            [
             0.2,
             "#de77ae"
            ],
            [
             0.3,
             "#f1b6da"
            ],
            [
             0.4,
             "#fde0ef"
            ],
            [
             0.5,
             "#f7f7f7"
            ],
            [
             0.6,
             "#e6f5d0"
            ],
            [
             0.7,
             "#b8e186"
            ],
            [
             0.8,
             "#7fbc41"
            ],
            [
             0.9,
             "#4d9221"
            ],
            [
             1,
             "#276419"
            ]
           ],
           "sequential": [
            [
             0,
             "#0d0887"
            ],
            [
             0.1111111111111111,
             "#46039f"
            ],
            [
             0.2222222222222222,
             "#7201a8"
            ],
            [
             0.3333333333333333,
             "#9c179e"
            ],
            [
             0.4444444444444444,
             "#bd3786"
            ],
            [
             0.5555555555555556,
             "#d8576b"
            ],
            [
             0.6666666666666666,
             "#ed7953"
            ],
            [
             0.7777777777777778,
             "#fb9f3a"
            ],
            [
             0.8888888888888888,
             "#fdca26"
            ],
            [
             1,
             "#f0f921"
            ]
           ],
           "sequentialminus": [
            [
             0,
             "#0d0887"
            ],
            [
             0.1111111111111111,
             "#46039f"
            ],
            [
             0.2222222222222222,
             "#7201a8"
            ],
            [
             0.3333333333333333,
             "#9c179e"
            ],
            [
             0.4444444444444444,
             "#bd3786"
            ],
            [
             0.5555555555555556,
             "#d8576b"
            ],
            [
             0.6666666666666666,
             "#ed7953"
            ],
            [
             0.7777777777777778,
             "#fb9f3a"
            ],
            [
             0.8888888888888888,
             "#fdca26"
            ],
            [
             1,
             "#f0f921"
            ]
           ]
          },
          "colorway": [
           "#636efa",
           "#EF553B",
           "#00cc96",
           "#ab63fa",
           "#FFA15A",
           "#19d3f3",
           "#FF6692",
           "#B6E880",
           "#FF97FF",
           "#FECB52"
          ],
          "font": {
           "color": "#2a3f5f"
          },
          "geo": {
           "bgcolor": "white",
           "lakecolor": "white",
           "landcolor": "white",
           "showlakes": true,
           "showland": true,
           "subunitcolor": "#C8D4E3"
          },
          "hoverlabel": {
           "align": "left"
          },
          "hovermode": "closest",
          "mapbox": {
           "style": "light"
          },
          "paper_bgcolor": "white",
          "plot_bgcolor": "white",
          "polar": {
           "angularaxis": {
            "gridcolor": "#EBF0F8",
            "linecolor": "#EBF0F8",
            "ticks": ""
           },
           "bgcolor": "white",
           "radialaxis": {
            "gridcolor": "#EBF0F8",
            "linecolor": "#EBF0F8",
            "ticks": ""
           }
          },
          "scene": {
           "xaxis": {
            "backgroundcolor": "white",
            "gridcolor": "#DFE8F3",
            "gridwidth": 2,
            "linecolor": "#EBF0F8",
            "showbackground": true,
            "ticks": "",
            "zerolinecolor": "#EBF0F8"
           },
           "yaxis": {
            "backgroundcolor": "white",
            "gridcolor": "#DFE8F3",
            "gridwidth": 2,
            "linecolor": "#EBF0F8",
            "showbackground": true,
            "ticks": "",
            "zerolinecolor": "#EBF0F8"
           },
           "zaxis": {
            "backgroundcolor": "white",
            "gridcolor": "#DFE8F3",
            "gridwidth": 2,
            "linecolor": "#EBF0F8",
            "showbackground": true,
            "ticks": "",
            "zerolinecolor": "#EBF0F8"
           }
          },
          "shapedefaults": {
           "line": {
            "color": "#2a3f5f"
           }
          },
          "ternary": {
           "aaxis": {
            "gridcolor": "#DFE8F3",
            "linecolor": "#A2B1C6",
            "ticks": ""
           },
           "baxis": {
            "gridcolor": "#DFE8F3",
            "linecolor": "#A2B1C6",
            "ticks": ""
           },
           "bgcolor": "white",
           "caxis": {
            "gridcolor": "#DFE8F3",
            "linecolor": "#A2B1C6",
            "ticks": ""
           }
          },
          "title": {
           "x": 0.05
          },
          "xaxis": {
           "automargin": true,
           "gridcolor": "#EBF0F8",
           "linecolor": "#EBF0F8",
           "ticks": "",
           "title": {
            "standoff": 15
           },
           "zerolinecolor": "#EBF0F8",
           "zerolinewidth": 2
          },
          "yaxis": {
           "automargin": true,
           "gridcolor": "#EBF0F8",
           "linecolor": "#EBF0F8",
           "ticks": "",
           "title": {
            "standoff": 15
           },
           "zerolinecolor": "#EBF0F8",
           "zerolinewidth": 2
          }
         }
        },
        "title": {
         "text": "Fig. 1: Feature Importances from Random Forest"
        },
        "width": 1000,
        "xaxis": {
         "anchor": "y",
         "autorange": true,
         "domain": [
          0,
          1
         ],
         "range": [
          0,
          0.07841188538675366
         ],
         "title": {
          "text": "Important Feature"
         },
         "type": "linear"
        },
        "yaxis": {
         "anchor": "x",
         "autorange": true,
         "domain": [
          0,
          1
         ],
         "range": [
          -0.5,
          21.5
         ],
         "title": {
          "text": "Features"
         },
         "type": "category"
        }
       }
      },
      "image/png": "[encoded data removed]",
      "text/html": [
       "<div>                            <div id=\"2fac30eb-e9a1-4f2b-ae9d-88a166a24282\" class=\"plotly-graph-div\" style=\"height:600px; width:1000px;\"></div>            <script type=\"text/javascript\">                require([\"plotly\"], function(Plotly) {                    window.PLOTLYENV=window.PLOTLYENV || {};                                    if (document.getElementById(\"2fac30eb-e9a1-4f2b-ae9d-88a166a24282\")) {                    Plotly.newPlot(                        \"2fac30eb-e9a1-4f2b-ae9d-88a166a24282\",                        [{\"alignmentgroup\":\"True\",\"hovertemplate\":\"Important Feature=%{x}\\u003cbr\\u003eFeatures=%{y}\\u003cextra\\u003e\\u003c\\u002fextra\\u003e\",\"legendgroup\":\"\",\"marker\":{\"color\":\"#636efa\",\"pattern\":{\"shape\":\"\"}},\"name\":\"\",\"offsetgroup\":\"\",\"orientation\":\"h\",\"showlegend\":false,\"textposition\":\"auto\",\"x\":[0.010173544164787652,0.010391909375620236,0.010417651729998907,0.011120572397956958,0.011274024808696674,0.011650264496899883,0.012033705275833058,0.01215873298123666,0.012269804925366468,0.012317879414339266,0.012359117348053674,0.013229313200597045,0.01324775904558108,0.013377538777534307,0.01355778696109839,0.014205437574350173,0.014914721416571953,0.01554464841044374,0.017286309946192544,0.018467906277061748,0.02377284842649866,0.07449129111741598],\"xaxis\":\"x\",\"y\":[\"tfidf_677\",\"tfidf_993\",\"tfidf_630\",\"tfidf_669\",\"tfidf_217\",\"tfidf_521\",\"tfidf_884\",\"tfidf_425\",\"tfidf_862\",\"tfidf_949\",\"tfidf_98\",\"tfidf_423\",\"elite_level_code\",\"tfidf_185\",\"tfidf_90\",\"tfidf_265\",\"tfidf_363\",\"silence_percent_average\",\"average_sentiment\",\"Handle_minutes\",\"Total Call Duration\",\"Speed_minutes\"],\"yaxis\":\"y\",\"type\":\"bar\"}],                        {\"template\":{\"data\":{\"barpolar\":[{\"marker\":{\"line\":{\"color\":\"white\",\"width\":0.5},\"pattern\":{\"fillmode\":\"overlay\",\"size\":10,\"solidity\":0.2}},\"type\":\"barpolar\"}],\"bar\":[{\"error_x\":{\"color\":\"#2a3f5f\"},\"error_y\":{\"color\":\"#2a3f5f\"},\"marker\":{\"line\":{\"color\":\"white\",\"width\":0.5},\"pattern\":{\"fillmode\":\"overlay\",\"size\":10,\"solidity\":0.2}},\"type\":\"bar\"}],\"carpet\":[{\"aaxis\":{\"endlinecolor\":\"#2a3f5f\",\"gridcolor\":\"#C8D4E3\",\"linecolor\":\"#C8D4E3\",\"minorgridcolor\":\"#C8D4E3\",\"startlinecolor\":\"#2a3f5f\"},\"baxis\":{\"endlinecolor\":\"#2a3f5f\",\"gridcolor\":\"#C8D4E3\",\"linecolor\":\"#C8D4E3\",\"minorgridcolor\":\"#C8D4E3\",\"startlinecolor\":\"#2a3f5f\"},\"type\":\"carpet\"}],\"choropleth\":[{\"colorbar\":{\"outlinewidth\":0,\"ticks\":\"\"},\"type\":\"choropleth\"}],\"contourcarpet\":[{\"colorbar\":{\"outlinewidth\":0,\"ticks\":\"\"},\"type\":\"contourcarpet\"}],\"contour\":[{\"colorbar\":{\"outlinewidth\":0,\"ticks\":\"\"},\"colorscale\":[[0.0,\"#0d0887\"],[0.1111111111111111,\"#46039f\"],[0.2222222222222222,\"#7201a8\"],[0.3333333333333333,\"#9c179e\"],[0.4444444444444444,\"#bd3786\"],[0.5555555555555556,\"#d8576b\"],[0.6666666666666666,\"#ed7953\"],[0.7777777777777778,\"#fb9f3a\"],[0.8888888888888888,\"#fdca26\"],[1.0,\"#f0f921\"]],\"type\":\"contour\"}],\"heatmapgl\":[{\"colorbar\":{\"outlinewidth\":0,\"ticks\":\"\"},\"colorscale\":[[0.0,\"#0d0887\"],[0.1111111111111111,\"#46039f\"],[0.2222222222222222,\"#7201a8\"],[0.3333333333333333,\"#9c179e\"],[0.4444444444444444,\"#bd3786\"],[0.5555555555555556,\"#d8576b\"],[0.6666666666666666,\"#ed7953\"],[0.7777777777777778,\"#fb9f3a\"],[0.8888888888888888,\"#fdca26\"],[1.0,\"#f0f921\"]],\"type\":\"heatmapgl\"}],\"heatmap\":[{\"colorbar\":{\"outlinewidth\":0,\"ticks\":\"\"},\"colorscale\":[[0.0,\"#0d0887\"],[0.1111111111111111,\"#46039f\"],[0.2222222222222222,\"#7201a8\"],[0.3333333333333333,\"#9c179e\"],[0.4444444444444444,\"#bd3786\"],[0.5555555555555556,\"#d8576b\"],[0.6666666666666666,\"#ed7953\"],[0.7777777777777778,\"#fb9f3a\"],[0.8888888888888888,\"#fdca26\"],[1.0,\"#f0f921\"]],\"type\":\"heatmap\"}],\"histogram2dcontour\":[{\"colorbar\":{\"outlinewidth\":0,\"ticks\":\"\"},\"colorscale\":[[0.0,\"#0d0887\"],[0.1111111111111111,\"#46039f\"],[0.2222222222222222,\"#7201a8\"],[0.3333333333333333,\"#9c179e\"],[0.4444444444444444,\"#bd3786\"],[0.5555555555555556,\"#d8576b\"],[0.6666666666666666,\"#ed7953\"],[0.7777777777777778,\"#fb9f3a\"],[0.8888888888888888,\"#fdca26\"],[1.0,\"#f0f921\"]],\"type\":\"histogram2dcontour\"}],\"histogram2d\":[{\"colorbar\":{\"outlinewidth\":0,\"ticks\":\"\"},\"colorscale\":[[0.0,\"#0d0887\"],[0.1111111111111111,\"#46039f\"],[0.2222222222222222,\"#7201a8\"],[0.3333333333333333,\"#9c179e\"],[0.4444444444444444,\"#bd3786\"],[0.5555555555555556,\"#d8576b\"],[0.6666666666666666,\"#ed7953\"],[0.7777777777777778,\"#fb9f3a\"],[0.8888888888888888,\"#fdca26\"],[1.0,\"#f0f921\"]],\"type\":\"histogram2d\"}],\"histogram\":[{\"marker\":{\"pattern\":{\"fillmode\":\"overlay\",\"size\":10,\"solidity\":0.2}},\"type\":\"histogram\"}],\"mesh3d\":[{\"colorbar\":{\"outlinewidth\":0,\"ticks\":\"\"},\"type\":\"mesh3d\"}],\"parcoords\":[{\"line\":{\"colorbar\":{\"outlinewidth\":0,\"ticks\":\"\"}},\"type\":\"parcoords\"}],\"pie\":[{\"automargin\":true,\"type\":\"pie\"}],\"scatter3d\":[{\"line\":{\"colorbar\":{\"outlinewidth\":0,\"ticks\":\"\"}},\"marker\":{\"colorbar\":{\"outlinewidth\":0,\"ticks\":\"\"}},\"type\":\"scatter3d\"}],\"scattercarpet\":[{\"marker\":{\"colorbar\":{\"outlinewidth\":0,\"ticks\":\"\"}},\"type\":\"scattercarpet\"}],\"scattergeo\":[{\"marker\":{\"colorbar\":{\"outlinewidth\":0,\"ticks\":\"\"}},\"type\":\"scattergeo\"}],\"scattergl\":[{\"marker\":{\"colorbar\":{\"outlinewidth\":0,\"ticks\":\"\"}},\"type\":\"scattergl\"}],\"scattermapbox\":[{\"marker\":{\"colorbar\":{\"outlinewidth\":0,\"ticks\":\"\"}},\"type\":\"scattermapbox\"}],\"scatterpolargl\":[{\"marker\":{\"colorbar\":{\"outlinewidth\":0,\"ticks\":\"\"}},\"type\":\"scatterpolargl\"}],\"scatterpolar\":[{\"marker\":{\"colorbar\":{\"outlinewidth\":0,\"ticks\":\"\"}},\"type\":\"scatterpolar\"}],\"scatter\":[{\"fillpattern\":{\"fillmode\":\"overlay\",\"size\":10,\"solidity\":0.2},\"type\":\"scatter\"}],\"scatterternary\":[{\"marker\":{\"colorbar\":{\"outlinewidth\":0,\"ticks\":\"\"}},\"type\":\"scatterternary\"}],\"surface\":[{\"colorbar\":{\"outlinewidth\":0,\"ticks\":\"\"},\"colorscale\":[[0.0,\"#0d0887\"],[0.1111111111111111,\"#46039f\"],[0.2222222222222222,\"#7201a8\"],[0.3333333333333333,\"#9c179e\"],[0.4444444444444444,\"#bd3786\"],[0.5555555555555556,\"#d8576b\"],[0.6666666666666666,\"#ed7953\"],[0.7777777777777778,\"#fb9f3a\"],[0.8888888888888888,\"#fdca26\"],[1.0,\"#f0f921\"]],\"type\":\"surface\"}],\"table\":[{\"cells\":{\"fill\":{\"color\":\"#EBF0F8\"},\"line\":{\"color\":\"white\"}},\"header\":{\"fill\":{\"color\":\"#C8D4E3\"},\"line\":{\"color\":\"white\"}},\"type\":\"table\"}]},\"layout\":{\"annotationdefaults\":{\"arrowcolor\":\"#2a3f5f\",\"arrowhead\":0,\"arrowwidth\":1},\"autotypenumbers\":\"strict\",\"coloraxis\":{\"colorbar\":{\"outlinewidth\":0,\"ticks\":\"\"}},\"colorscale\":{\"diverging\":[[0,\"#8e0152\"],[0.1,\"#c51b7d\"],[0.2,\"#de77ae\"],[0.3,\"#f1b6da\"],[0.4,\"#fde0ef\"],[0.5,\"#f7f7f7\"],[0.6,\"#e6f5d0\"],[0.7,\"#b8e186\"],[0.8,\"#7fbc41\"],[0.9,\"#4d9221\"],[1,\"#276419\"]],\"sequential\":[[0.0,\"#0d0887\"],[0.1111111111111111,\"#46039f\"],[0.2222222222222222,\"#7201a8\"],[0.3333333333333333,\"#9c179e\"],[0.4444444444444444,\"#bd3786\"],[0.5555555555555556,\"#d8576b\"],[0.6666666666666666,\"#ed7953\"],[0.7777777777777778,\"#fb9f3a\"],[0.8888888888888888,\"#fdca26\"],[1.0,\"#f0f921\"]],\"sequentialminus\":[[0.0,\"#0d0887\"],[0.1111111111111111,\"#46039f\"],[0.2222222222222222,\"#7201a8\"],[0.3333333333333333,\"#9c179e\"],[0.4444444444444444,\"#bd3786\"],[0.5555555555555556,\"#d8576b\"],[0.6666666666666666,\"#ed7953\"],[0.7777777777777778,\"#fb9f3a\"],[0.8888888888888888,\"#fdca26\"],[1.0,\"#f0f921\"]]},\"colorway\":[\"#636efa\",\"#EF553B\",\"#00cc96\",\"#ab63fa\",\"#FFA15A\",\"#19d3f3\",\"#FF6692\",\"#B6E880\",\"#FF97FF\",\"#FECB52\"],\"font\":{\"color\":\"#2a3f5f\"},\"geo\":{\"bgcolor\":\"white\",\"lakecolor\":\"white\",\"landcolor\":\"white\",\"showlakes\":true,\"showland\":true,\"subunitcolor\":\"#C8D4E3\"},\"hoverlabel\":{\"align\":\"left\"},\"hovermode\":\"closest\",\"mapbox\":{\"style\":\"light\"},\"paper_bgcolor\":\"white\",\"plot_bgcolor\":\"white\",\"polar\":{\"angularaxis\":{\"gridcolor\":\"#EBF0F8\",\"linecolor\":\"#EBF0F8\",\"ticks\":\"\"},\"bgcolor\":\"white\",\"radialaxis\":{\"gridcolor\":\"#EBF0F8\",\"linecolor\":\"#EBF0F8\",\"ticks\":\"\"}},\"scene\":{\"xaxis\":{\"backgroundcolor\":\"white\",\"gridcolor\":\"#DFE8F3\",\"gridwidth\":2,\"linecolor\":\"#EBF0F8\",\"showbackground\":true,\"ticks\":\"\",\"zerolinecolor\":\"#EBF0F8\"},\"yaxis\":{\"backgroundcolor\":\"white\",\"gridcolor\":\"#DFE8F3\",\"gridwidth\":2,\"linecolor\":\"#EBF0F8\",\"showbackground\":true,\"ticks\":\"\",\"zerolinecolor\":\"#EBF0F8\"},\"zaxis\":{\"backgroundcolor\":\"white\",\"gridcolor\":\"#DFE8F3\",\"gridwidth\":2,\"linecolor\":\"#EBF0F8\",\"showbackground\":true,\"ticks\":\"\",\"zerolinecolor\":\"#EBF0F8\"}},\"shapedefaults\":{\"line\":{\"color\":\"#2a3f5f\"}},\"ternary\":{\"aaxis\":{\"gridcolor\":\"#DFE8F3\",\"linecolor\":\"#A2B1C6\",\"ticks\":\"\"},\"baxis\":{\"gridcolor\":\"#DFE8F3\",\"linecolor\":\"#A2B1C6\",\"ticks\":\"\"},\"bgcolor\":\"white\",\"caxis\":{\"gridcolor\":\"#DFE8F3\",\"linecolor\":\"#A2B1C6\",\"ticks\":\"\"}},\"title\":{\"x\":0.05},\"xaxis\":{\"automargin\":true,\"gridcolor\":\"#EBF0F8\",\"linecolor\":\"#EBF0F8\",\"ticks\":\"\",\"title\":{\"standoff\":15},\"zerolinecolor\":\"#EBF0F8\",\"zerolinewidth\":2},\"yaxis\":{\"automargin\":true,\"gridcolor\":\"#EBF0F8\",\"linecolor\":\"#EBF0F8\",\"ticks\":\"\",\"title\":{\"standoff\":15},\"zerolinecolor\":\"#EBF0F8\",\"zerolinewidth\":2}}},\"xaxis\":{\"anchor\":\"y\",\"domain\":[0.0,1.0],\"title\":{\"text\":\"Important Feature\"}},\"yaxis\":{\"anchor\":\"x\",\"domain\":[0.0,1.0],\"title\":{\"text\":\"Features\"}},\"legend\":{\"tracegroupgap\":0},\"title\":{\"text\":\"Fig. 1: Feature Importances from Random Forest\"},\"barmode\":\"relative\",\"width\":1000,\"height\":600},                        {\"responsive\": true}                    ).then(function(){\n",
       "                            \n",
       "var gd = document.getElementById('2fac30eb-e9a1-4f2b-ae9d-88a166a24282');\n",
       "var x = new MutationObserver(function (mutations, observer) {{\n",
       "        var display = window.getComputedStyle(gd).display;\n",
       "        if (!display || display === 'none') {{\n",
       "            console.log([gd, 'removed!']);\n",
       "            Plotly.purge(gd);\n",
       "            observer.disconnect();\n",
       "        }}\n",
       "}});\n",
       "\n",
       "// Listen for the removal of the full notebook cells\n",
       "var notebookContainer = gd.closest('#notebook-container');\n",
       "if (notebookContainer) {{\n",
       "    x.observe(notebookContainer, {childList: true});\n",
       "}}\n",
       "\n",
       "// Listen for the clearing of the current output cell\n",
       "var outputEl = gd.closest('.output');\n",
       "if (outputEl) {{\n",
       "    x.observe(outputEl, {childList: true});\n",
       "}}\n",
       "\n",
       "                        })                };                });            </script>        </div>"
      ]
     },
     "metadata": {},
     "output_type": "display_data"
    }
   ],
   "source": [
    "# IMPORTANT FEATURES BASED ON RANDOM FOREST\n",
    "important_feature = rf_model.feature_importances_\n",
    "\n",
    "# Create a DataFrame of feature importances\n",
    "feature_importance_df = pd.DataFrame({\n",
    "    'feature': X.columns,\n",
    "    'Important Feature': important_feature\n",
    "}).sort_values(by='Important Feature', ascending=True).reset_index(drop = True)\n",
    "\n",
    "# Thresold = 0.01\n",
    "# Slice those features whose importance is greater than 0.1\n",
    "imp_feat = feature_importance_df[feature_importance_df['Important Feature'] > 0.01]\n",
    "# Names of important features\n",
    "imp_feat_name = imp_feat['feature'].values\n",
    "print(\"Following are Important Features:\")\n",
    "print(imp_feat_name)\n",
    "\n",
    "# Graph\n",
    "# Create a bar chart using Plotly\n",
    "fig = px.bar(\n",
    "    imp_feat,\n",
    "    x='Important Feature',\n",
    "    y='feature',\n",
    "    orientation='h',\n",
    "    title='Fig. 1: Feature Importances from Random Forest',\n",
    "    labels={'importance': 'Importance', 'feature': 'Features'},\n",
    "    template='plotly_white'\n",
    ")\n",
    "\n",
    "fig.update_layout(width=1000, height=600) \n",
    "# Show the plot\n",
    "fig.show()"
   ]
  },
  {
   "cell_type": "markdown",
   "id": "73a2923d",
   "metadata": {},
   "source": [
    "### APPLYING THE ABOVE FEATURES & MODEL AGAIN"
   ]
  },
  {
   "cell_type": "code",
   "execution_count": 14,
   "id": "2110061d",
   "metadata": {},
   "outputs": [
    {
     "name": "stdout",
     "output_type": "stream",
     "text": [
      "Logistic Regression Accuracy: 0.34033455854774586\n",
      "RandomForest Accuracy: 0.41189708198934816\n"
     ]
    }
   ],
   "source": [
    "X_imp = X[imp_feat_name]\n",
    "\n",
    "# SPLITTING INTO TRAINING & VALIDATION SET\n",
    "# Step 3: Split the data into training and testing sets\n",
    "X_imp_train, X_imp_val, Y_imp_train, Y_imp_val = train_test_split(X_imp, Y, test_size=0.2, random_state=42)\n",
    "\n",
    "\n",
    "# LOGISTIC MODEL\n",
    "logreg_model1 = LogisticRegression(max_iter=200)\n",
    "# Train the model\n",
    "logreg_model1.fit(X_imp_train, Y_imp_train)\n",
    "# Evaluate the model on the Validation set\n",
    "Y_imp_pred = logreg_model1.predict(X_imp_val)\n",
    "# Print accuracy and classification report\n",
    "print(\"Logistic Regression Accuracy:\", accuracy_score(Y_imp_val, Y_imp_pred))\n",
    "#print(\"Logistic Regression Classification Report:\\n\", classification_report(Y_imp_val, Y_imp_pred))\n",
    "\n",
    "\n",
    "\n",
    "# RANDOM FOREST\n",
    "rf_model1 = RandomForestClassifier(n_estimators=100, random_state=42)\n",
    "# Train RandomForest model\n",
    "rf_model1.fit(X_imp_train, Y_imp_train)\n",
    "# Evaluate RandomForest model\n",
    "Y_imp_pred_rf = rf_model1.predict(X_imp_val)\n",
    "# Print accuracy and classification report for RandomForest\n",
    "print(\"RandomForest Accuracy:\", accuracy_score(Y_imp_val, Y_imp_pred_rf))\n",
    "#print(\"RandomForest Classification Report:\\n\", classification_report(Y_imp_val, Y_imp_pred_rf))\n"
   ]
  },
  {
   "cell_type": "markdown",
   "id": "cc8b14a1",
   "metadata": {},
   "source": [
    "# 2. PREPARING TEST DATASET"
   ]
  },
  {
   "cell_type": "code",
   "execution_count": 15,
   "id": "73c8613c",
   "metadata": {},
   "outputs": [
    {
     "data": {
      "text/plain": [
       "(5157, 1)"
      ]
     },
     "execution_count": 15,
     "metadata": {},
     "output_type": "execute_result"
    }
   ],
   "source": [
    "# CALLING THE TEST DATASET\n",
    "test_df = pd.read_csv(\"test.csv\")\n",
    "test_df.shape"
   ]
  },
  {
   "cell_type": "code",
   "execution_count": 16,
   "id": "4fae8b10",
   "metadata": {},
   "outputs": [
    {
     "data": {
      "text/plain": [
       "(5157, 14)"
      ]
     },
     "execution_count": 16,
     "metadata": {},
     "output_type": "execute_result"
    }
   ],
   "source": [
    "# MERGING THE TEST DATASET\n",
    "# Merging test dataset with calls dataset\n",
    "test_merged = pd.merge(test_df, calls, on='call_id', how='left')\n",
    "\n",
    "# Merging customer dataset to test file\n",
    "test_merged = pd.merge(test_merged , customers, on='customer_id', how='left')\n",
    "\n",
    "# Merging Sentiment Statistic with test file\n",
    "test_merged = pd.merge(test_merged , sent_stat, on='call_id', how='left')\n",
    "test_merged.shape"
   ]
  },
  {
   "cell_type": "code",
   "execution_count": 17,
   "id": "67c1c698",
   "metadata": {},
   "outputs": [
    {
     "data": {
      "text/plain": [
       "call_id                       0\n",
       "customer_id                   0\n",
       "agent_id_x                    0\n",
       "call_start_datetime           0\n",
       "agent_assigned_datetime       0\n",
       "call_end_datetime             0\n",
       "call_transcript               0\n",
       "customer_name                 0\n",
       "elite_level_code           1808\n",
       "agent_id_y                    0\n",
       "agent_tone                   19\n",
       "customer_tone                 0\n",
       "average_sentiment             8\n",
       "silence_percent_average       0\n",
       "dtype: int64"
      ]
     },
     "execution_count": 17,
     "metadata": {},
     "output_type": "execute_result"
    }
   ],
   "source": [
    "# CHECKING MISSING VALUES\n",
    "test_merged.isnull().sum()"
   ]
  },
  {
   "cell_type": "code",
   "execution_count": 18,
   "id": "bb3becaa",
   "metadata": {},
   "outputs": [
    {
     "name": "stdout",
     "output_type": "stream",
     "text": [
      "call_id                    0\n",
      "customer_id                0\n",
      "agent_id_x                 0\n",
      "call_start_datetime        0\n",
      "agent_assigned_datetime    0\n",
      "call_end_datetime          0\n",
      "call_transcript            0\n",
      "customer_name              0\n",
      "elite_level_code           0\n",
      "agent_id_y                 0\n",
      "agent_tone                 0\n",
      "customer_tone              0\n",
      "average_sentiment          0\n",
      "silence_percent_average    0\n",
      "dtype: int64\n"
     ]
    }
   ],
   "source": [
    "# DATA CLEANING - 1\n",
    "# HANDLING MISSING VALUES\n",
    "\n",
    "# Handling Missing Values of elite level code by assigning them with 0\n",
    "test_merged['elite_level_code'].fillna(0, inplace = True)\n",
    "\n",
    "# Handling missing values in agent_tone (categorical)\n",
    "# Impute missing values with a new category \"Unknown\"\n",
    "test_merged['agent_tone'].fillna('Unknown', inplace=True)\n",
    "\n",
    "# Handling missing values in average_sentiment (numerical)\n",
    "# Impute missing values with the median\n",
    "test_merged['average_sentiment'].fillna(test_merged['average_sentiment'].median(), inplace=True)\n",
    "\n",
    "print(test_merged.isnull().sum())"
   ]
  },
  {
   "cell_type": "code",
   "execution_count": 19,
   "id": "d582c38f",
   "metadata": {},
   "outputs": [],
   "source": [
    "# DATA CLEANING - 3\n",
    "# Agent_id is being repeated in test dataset so make it one column\n",
    "test_merged = test_merged.drop('agent_id_y', axis=1)\n",
    "test_merged.rename(columns={'agent_id_x': 'agent_id'}, inplace=True)"
   ]
  },
  {
   "cell_type": "code",
   "execution_count": 20,
   "id": "aa0bd106",
   "metadata": {},
   "outputs": [
    {
     "data": {
      "text/html": [
       "<div>\n",
       "<style scoped>\n",
       "    .dataframe tbody tr th:only-of-type {\n",
       "        vertical-align: middle;\n",
       "    }\n",
       "\n",
       "    .dataframe tbody tr th {\n",
       "        vertical-align: top;\n",
       "    }\n",
       "\n",
       "    .dataframe thead th {\n",
       "        text-align: right;\n",
       "    }\n",
       "</style>\n",
       "<table border=\"1\" class=\"dataframe\">\n",
       "  <thead>\n",
       "    <tr style=\"text-align: right;\">\n",
       "      <th></th>\n",
       "      <th>call_id</th>\n",
       "      <th>customer_id</th>\n",
       "      <th>agent_id</th>\n",
       "      <th>call_start_datetime</th>\n",
       "      <th>agent_assigned_datetime</th>\n",
       "      <th>call_end_datetime</th>\n",
       "      <th>call_transcript</th>\n",
       "      <th>customer_name</th>\n",
       "      <th>elite_level_code</th>\n",
       "      <th>agent_tone</th>\n",
       "      <th>customer_tone</th>\n",
       "      <th>average_sentiment</th>\n",
       "      <th>silence_percent_average</th>\n",
       "      <th>Speed</th>\n",
       "      <th>Handle</th>\n",
       "      <th>Total Call Duration</th>\n",
       "      <th>Speed_seconds</th>\n",
       "      <th>Handle_seconds</th>\n",
       "      <th>Speed_minutes</th>\n",
       "      <th>Handle_minutes</th>\n",
       "    </tr>\n",
       "  </thead>\n",
       "  <tbody>\n",
       "    <tr>\n",
       "      <th>0</th>\n",
       "      <td>7732610078</td>\n",
       "      <td>4029953261</td>\n",
       "      <td>488324</td>\n",
       "      <td>2024-08-01 00:23:00</td>\n",
       "      <td>2024-08-01 00:34:00</td>\n",
       "      <td>2024-08-01 01:32:00</td>\n",
       "      <td>\\n\\nAgent: Thank you for calling United Airlin...</td>\n",
       "      <td>Cassandra Flores</td>\n",
       "      <td>0.0</td>\n",
       "      <td>neutral</td>\n",
       "      <td>neutral</td>\n",
       "      <td>-0.06</td>\n",
       "      <td>0.58</td>\n",
       "      <td>0 days 00:11:00</td>\n",
       "      <td>0 days 00:58:00</td>\n",
       "      <td>69.0</td>\n",
       "      <td>660.0</td>\n",
       "      <td>3480.0</td>\n",
       "      <td>11.0</td>\n",
       "      <td>58.0</td>\n",
       "    </tr>\n",
       "    <tr>\n",
       "      <th>1</th>\n",
       "      <td>2400299738</td>\n",
       "      <td>2034858976</td>\n",
       "      <td>963118</td>\n",
       "      <td>2024-08-01 01:33:00</td>\n",
       "      <td>2024-08-01 01:41:00</td>\n",
       "      <td>2024-08-01 01:54:00</td>\n",
       "      <td>\\n\\nAgent: Thank you for calling United Airlin...</td>\n",
       "      <td>Hannah Drake</td>\n",
       "      <td>0.0</td>\n",
       "      <td>calm</td>\n",
       "      <td>angry</td>\n",
       "      <td>0.01</td>\n",
       "      <td>0.40</td>\n",
       "      <td>0 days 00:08:00</td>\n",
       "      <td>0 days 00:13:00</td>\n",
       "      <td>21.0</td>\n",
       "      <td>480.0</td>\n",
       "      <td>780.0</td>\n",
       "      <td>8.0</td>\n",
       "      <td>13.0</td>\n",
       "    </tr>\n",
       "    <tr>\n",
       "      <th>2</th>\n",
       "      <td>6533095063</td>\n",
       "      <td>1874845993</td>\n",
       "      <td>519057</td>\n",
       "      <td>2024-08-01 02:17:00</td>\n",
       "      <td>2024-08-01 02:27:00</td>\n",
       "      <td>2024-08-01 02:29:00</td>\n",
       "      <td>\\n\\nAgent: Thank you for calling United Airlin...</td>\n",
       "      <td>Larry Nolan</td>\n",
       "      <td>0.0</td>\n",
       "      <td>neutral</td>\n",
       "      <td>calm</td>\n",
       "      <td>0.00</td>\n",
       "      <td>0.49</td>\n",
       "      <td>0 days 00:10:00</td>\n",
       "      <td>0 days 00:02:00</td>\n",
       "      <td>12.0</td>\n",
       "      <td>600.0</td>\n",
       "      <td>120.0</td>\n",
       "      <td>10.0</td>\n",
       "      <td>2.0</td>\n",
       "    </tr>\n",
       "  </tbody>\n",
       "</table>\n",
       "</div>"
      ],
      "text/plain": [
       "      call_id  customer_id  agent_id call_start_datetime  \\\n",
       "0  7732610078   4029953261    488324 2024-08-01 00:23:00   \n",
       "1  2400299738   2034858976    963118 2024-08-01 01:33:00   \n",
       "2  6533095063   1874845993    519057 2024-08-01 02:17:00   \n",
       "\n",
       "  agent_assigned_datetime   call_end_datetime  \\\n",
       "0     2024-08-01 00:34:00 2024-08-01 01:32:00   \n",
       "1     2024-08-01 01:41:00 2024-08-01 01:54:00   \n",
       "2     2024-08-01 02:27:00 2024-08-01 02:29:00   \n",
       "\n",
       "                                     call_transcript     customer_name  \\\n",
       "0  \\n\\nAgent: Thank you for calling United Airlin...  Cassandra Flores   \n",
       "1  \\n\\nAgent: Thank you for calling United Airlin...      Hannah Drake   \n",
       "2  \\n\\nAgent: Thank you for calling United Airlin...       Larry Nolan   \n",
       "\n",
       "   elite_level_code agent_tone customer_tone  average_sentiment  \\\n",
       "0               0.0    neutral       neutral              -0.06   \n",
       "1               0.0       calm         angry               0.01   \n",
       "2               0.0    neutral          calm               0.00   \n",
       "\n",
       "   silence_percent_average           Speed          Handle  \\\n",
       "0                     0.58 0 days 00:11:00 0 days 00:58:00   \n",
       "1                     0.40 0 days 00:08:00 0 days 00:13:00   \n",
       "2                     0.49 0 days 00:10:00 0 days 00:02:00   \n",
       "\n",
       "   Total Call Duration  Speed_seconds  Handle_seconds  Speed_minutes  \\\n",
       "0                 69.0          660.0          3480.0           11.0   \n",
       "1                 21.0          480.0           780.0            8.0   \n",
       "2                 12.0          600.0           120.0           10.0   \n",
       "\n",
       "   Handle_minutes  \n",
       "0            58.0  \n",
       "1            13.0  \n",
       "2             2.0  "
      ]
     },
     "execution_count": 20,
     "metadata": {},
     "output_type": "execute_result"
    }
   ],
   "source": [
    "# FEATURE ENGINEERING - 1\n",
    "# CREATING AHT & AST\n",
    "\n",
    "# Conversion to datetime datatypes\n",
    "test_merged[\"call_start_datetime\"] = pd.to_datetime(test_merged[\"call_start_datetime\"])\n",
    "test_merged[\"agent_assigned_datetime\"] = pd.to_datetime(test_merged[\"agent_assigned_datetime\"])\n",
    "test_merged[\"call_end_datetime\"] = pd.to_datetime(test_merged[\"call_end_datetime\"])\n",
    "\n",
    "# Metric\n",
    "# Speed to answer\n",
    "test_merged[\"Speed\"] = test_merged[\"agent_assigned_datetime\"]-test_merged[\"call_start_datetime\"]\n",
    "# Handling time\n",
    "test_merged[\"Handle\"] = test_merged[\"call_end_datetime\"]-test_merged[\"agent_assigned_datetime\"]\n",
    "# Total Call Duration\n",
    "test_merged[\"Total Call Duration\"] = test_merged[\"call_end_datetime\"]-test_merged[\"call_start_datetime\"]\n",
    "\n",
    "# Use seconds as measure\n",
    "test_merged[\"Speed_seconds\"] = test_merged[\"Speed\"].dt.total_seconds()\n",
    "test_merged[\"Handle_seconds\"] = test_merged[\"Handle\"].dt.total_seconds()\n",
    "\n",
    "# Using minutes as measure\n",
    "test_merged[\"Speed_minutes\"] = test_merged[\"Speed\"].dt.total_seconds() / 60\n",
    "test_merged[\"Handle_minutes\"] = test_merged[\"Handle\"].dt.total_seconds() / 60\n",
    "test_merged[\"Total Call Duration\"] = test_merged[\"Total Call Duration\"].dt.total_seconds() / 60\n",
    "\n",
    "test_merged.head(3)"
   ]
  },
  {
   "cell_type": "code",
   "execution_count": 21,
   "id": "ebf2420c",
   "metadata": {},
   "outputs": [],
   "source": [
    "# FEATURE ENGINEERING - 2\n",
    "# CONVERTING CALL TRANSCRIPT INTO MACHINE READBLE DATA USING NLP, TF-IDF PROCESSING.\n",
    "\n",
    "# Package Calling\n",
    "from sklearn.model_selection import train_test_split\n",
    "from sklearn.feature_extraction.text import TfidfVectorizer\n",
    "\n",
    "# Reduce the size of the transcripts by truncating & Proceed with TF-IDF processing. \n",
    "# Limit the size of call transcripts to reduce memory consumption (e.g., first 500 characters of each transcript)\n",
    "test_merged['call_transcript'] = test_merged['call_transcript'].str.slice(0, 500)\n",
    "\n",
    "# Re-split the data after truncation\n",
    "X_test_text = test_merged['call_transcript']\n",
    "\n",
    "# Apply TF-IDF Vectorization to the text data (to convert text into numeric features)\n",
    "tfidf_vectorizer = TfidfVectorizer(stop_words='english', max_features=1000)\n",
    "X_test_tfidf = tfidf_vectorizer.fit_transform(X_test_text)\n",
    "\n",
    "# Conver the sparse matrix to DataFrame\n",
    "tfidf_test_df = pd.DataFrame(X_test_tfidf.toarray(), columns=[f'tfidf_{i}' for i in range(X_test_tfidf.shape[1])])"
   ]
  },
  {
   "cell_type": "code",
   "execution_count": 22,
   "id": "14397a04",
   "metadata": {},
   "outputs": [],
   "source": [
    "# MAKING FINAL DATASET IN WHICH, WILL PREDICT USING OUR MODEL\n",
    "# DEFINING OUR NUMERICAL & CATEGORICAL FEATURES , RESPONSE VARIABLE(CATEGORY)\n",
    "features = [ 'elite_level_code', 'Handle_minutes', 'Speed_minutes',  'Total Call Duration' ,'silence_percent_average', 'average_sentiment','agent_tone',  'customer_tone']\n",
    "\n",
    "# SLICING DATASET BASED ON FEATURES & RESPONSE\n",
    "X_test = test_merged[features]\n",
    "# COMBINING THE 'TFIDF FEATURES' i.e., tfidf_df with X\n",
    "X_test = pd.concat([X_test.reset_index(drop=True), tfidf_test_df.reset_index(drop=True)], axis=1)\n"
   ]
  },
  {
   "cell_type": "code",
   "execution_count": 23,
   "id": "dda9f33e",
   "metadata": {},
   "outputs": [
    {
     "name": "stdout",
     "output_type": "stream",
     "text": [
      "{'Unknown': 0, 'angry': 1, 'calm': 2, 'frustrated': 3, 'neutral': 4, 'polite': 5}\n",
      "{'angry': 0, 'calm': 1, 'frustrated': 2, 'neutral': 3, 'polite': 4}\n"
     ]
    }
   ],
   "source": [
    "# ENCODING THE CATEGORICAL FEATURES\n",
    "from sklearn.preprocessing import LabelEncoder\n",
    "le = LabelEncoder()\n",
    "\n",
    "# EXTRACT CATEGORICAL FEATURES\n",
    "categorical_feature = [feature for feature in X_test.columns if X_test[feature].dtypes == 'object']\n",
    "\n",
    "# MAPPING THE FEATURES\n",
    "for feature in categorical_feature:\n",
    "    X_test[feature] = le.fit_transform(X_test[feature])\n",
    "    le_name_mapping = dict(zip(le.classes_, le.transform(le.classes_)))\n",
    "    print(le_name_mapping)"
   ]
  },
  {
   "cell_type": "code",
   "execution_count": 24,
   "id": "2f013ad0",
   "metadata": {},
   "outputs": [
    {
     "data": {
      "text/html": [
       "<div>\n",
       "<style scoped>\n",
       "    .dataframe tbody tr th:only-of-type {\n",
       "        vertical-align: middle;\n",
       "    }\n",
       "\n",
       "    .dataframe tbody tr th {\n",
       "        vertical-align: top;\n",
       "    }\n",
       "\n",
       "    .dataframe thead th {\n",
       "        text-align: right;\n",
       "    }\n",
       "</style>\n",
       "<table border=\"1\" class=\"dataframe\">\n",
       "  <thead>\n",
       "    <tr style=\"text-align: right;\">\n",
       "      <th></th>\n",
       "      <th>tfidf_677</th>\n",
       "      <th>tfidf_993</th>\n",
       "      <th>tfidf_630</th>\n",
       "      <th>tfidf_669</th>\n",
       "      <th>tfidf_217</th>\n",
       "      <th>tfidf_521</th>\n",
       "      <th>tfidf_884</th>\n",
       "      <th>tfidf_425</th>\n",
       "      <th>tfidf_862</th>\n",
       "      <th>tfidf_949</th>\n",
       "      <th>...</th>\n",
       "      <th>elite_level_code</th>\n",
       "      <th>tfidf_185</th>\n",
       "      <th>tfidf_90</th>\n",
       "      <th>tfidf_265</th>\n",
       "      <th>tfidf_363</th>\n",
       "      <th>silence_percent_average</th>\n",
       "      <th>average_sentiment</th>\n",
       "      <th>Handle_minutes</th>\n",
       "      <th>Total Call Duration</th>\n",
       "      <th>Speed_minutes</th>\n",
       "    </tr>\n",
       "  </thead>\n",
       "  <tbody>\n",
       "    <tr>\n",
       "      <th>0</th>\n",
       "      <td>0.0</td>\n",
       "      <td>0.000000</td>\n",
       "      <td>0.0</td>\n",
       "      <td>0.0</td>\n",
       "      <td>0.0</td>\n",
       "      <td>0.0</td>\n",
       "      <td>0.0</td>\n",
       "      <td>0.0</td>\n",
       "      <td>0.0</td>\n",
       "      <td>0.000000</td>\n",
       "      <td>...</td>\n",
       "      <td>0.0</td>\n",
       "      <td>0.0</td>\n",
       "      <td>0.0</td>\n",
       "      <td>0.0</td>\n",
       "      <td>0.0</td>\n",
       "      <td>0.58</td>\n",
       "      <td>-0.06</td>\n",
       "      <td>58.0</td>\n",
       "      <td>69.0</td>\n",
       "      <td>11.0</td>\n",
       "    </tr>\n",
       "    <tr>\n",
       "      <th>1</th>\n",
       "      <td>0.0</td>\n",
       "      <td>0.069368</td>\n",
       "      <td>0.0</td>\n",
       "      <td>0.0</td>\n",
       "      <td>0.0</td>\n",
       "      <td>0.0</td>\n",
       "      <td>0.0</td>\n",
       "      <td>0.0</td>\n",
       "      <td>0.0</td>\n",
       "      <td>0.254888</td>\n",
       "      <td>...</td>\n",
       "      <td>0.0</td>\n",
       "      <td>0.0</td>\n",
       "      <td>0.0</td>\n",
       "      <td>0.0</td>\n",
       "      <td>0.0</td>\n",
       "      <td>0.40</td>\n",
       "      <td>0.01</td>\n",
       "      <td>13.0</td>\n",
       "      <td>21.0</td>\n",
       "      <td>8.0</td>\n",
       "    </tr>\n",
       "    <tr>\n",
       "      <th>2</th>\n",
       "      <td>0.0</td>\n",
       "      <td>0.000000</td>\n",
       "      <td>0.0</td>\n",
       "      <td>0.0</td>\n",
       "      <td>0.0</td>\n",
       "      <td>0.0</td>\n",
       "      <td>0.0</td>\n",
       "      <td>0.0</td>\n",
       "      <td>0.0</td>\n",
       "      <td>0.000000</td>\n",
       "      <td>...</td>\n",
       "      <td>0.0</td>\n",
       "      <td>0.0</td>\n",
       "      <td>0.0</td>\n",
       "      <td>0.0</td>\n",
       "      <td>0.0</td>\n",
       "      <td>0.49</td>\n",
       "      <td>0.00</td>\n",
       "      <td>2.0</td>\n",
       "      <td>12.0</td>\n",
       "      <td>10.0</td>\n",
       "    </tr>\n",
       "  </tbody>\n",
       "</table>\n",
       "<p>3 rows × 22 columns</p>\n",
       "</div>"
      ],
      "text/plain": [
       "   tfidf_677  tfidf_993  tfidf_630  tfidf_669  tfidf_217  tfidf_521  \\\n",
       "0        0.0   0.000000        0.0        0.0        0.0        0.0   \n",
       "1        0.0   0.069368        0.0        0.0        0.0        0.0   \n",
       "2        0.0   0.000000        0.0        0.0        0.0        0.0   \n",
       "\n",
       "   tfidf_884  tfidf_425  tfidf_862  tfidf_949  ...  elite_level_code  \\\n",
       "0        0.0        0.0        0.0   0.000000  ...               0.0   \n",
       "1        0.0        0.0        0.0   0.254888  ...               0.0   \n",
       "2        0.0        0.0        0.0   0.000000  ...               0.0   \n",
       "\n",
       "   tfidf_185  tfidf_90  tfidf_265  tfidf_363  silence_percent_average  \\\n",
       "0        0.0       0.0        0.0        0.0                     0.58   \n",
       "1        0.0       0.0        0.0        0.0                     0.40   \n",
       "2        0.0       0.0        0.0        0.0                     0.49   \n",
       "\n",
       "   average_sentiment  Handle_minutes  Total Call Duration  Speed_minutes  \n",
       "0              -0.06            58.0                 69.0           11.0  \n",
       "1               0.01            13.0                 21.0            8.0  \n",
       "2               0.00             2.0                 12.0           10.0  \n",
       "\n",
       "[3 rows x 22 columns]"
      ]
     },
     "execution_count": 24,
     "metadata": {},
     "output_type": "execute_result"
    }
   ],
   "source": [
    "# CONSIDER THE IMPORTANT FEATURES WHICH WE FOUND DURING OUR TRAINING\n",
    "X_test = X_test[imp_feat_name]\n",
    "X_test.head(3)"
   ]
  },
  {
   "cell_type": "code",
   "execution_count": 25,
   "id": "57f49a49",
   "metadata": {},
   "outputs": [
    {
     "name": "stdout",
     "output_type": "stream",
     "text": [
      "Submission file created: 'test.csv'\n"
     ]
    }
   ],
   "source": [
    "# APPLYING OUR PRE-TRAINED MODEL IN TEST DATA\n",
    "\n",
    "# Predict using RandomForest \n",
    "test_predictions = rf_model1.predict(X_test)\n",
    "\n",
    "# Prepare submission file\n",
    "submission_df = test_merged[['call_id']].copy()\n",
    "submission_df['primary_call_reason'] = test_predictions\n",
    "\n",
    "# Save the submission file\n",
    "submission_df.to_csv('test.csv', index=False)\n",
    "print(\"Submission file created: 'test.csv'\")\n"
   ]
  },
  {
   "cell_type": "code",
   "execution_count": null,
   "id": "3e501ea1",
   "metadata": {},
   "outputs": [],
   "source": []
  },
  {
   "cell_type": "code",
   "execution_count": null,
   "id": "c25be88e",
   "metadata": {},
   "outputs": [],
   "source": []
  },
  {
   "cell_type": "code",
   "execution_count": null,
   "id": "a95fb350",
   "metadata": {},
   "outputs": [],
   "source": []
  }
 ],
 "metadata": {
  "kernelspec": {
   "display_name": "Python 3 (ipykernel)",
   "language": "python",
   "name": "python3"
  },
  "language_info": {
   "codemirror_mode": {
    "name": "ipython",
    "version": 3
   },
   "file_extension": ".py",
   "mimetype": "text/x-python",
   "name": "python",
   "nbconvert_exporter": "python",
   "pygments_lexer": "ipython3",
   "version": "3.12.4"
  }
 },
 "nbformat": 4,
 "nbformat_minor": 5
}
